{
  "nbformat": 4,
  "nbformat_minor": 0,
  "metadata": {
    "colab": {
      "name": "colab-tutorial.ipynb",
      "provenance": [],
      "collapsed_sections": []
    },
    "kernelspec": {
      "name": "python3",
      "display_name": "Python 3"
    },
    "accelerator": "GPU"
  },
  "cells": [
    {
      "cell_type": "markdown",
      "metadata": {
        "id": "6dfJPT-2XMTB"
      },
      "source": [
        "# Install"
      ]
    },
    {
      "cell_type": "code",
      "metadata": {
        "colab": {
          "base_uri": "https://localhost:8080/"
        },
        "id": "a193aGJWVaqb",
        "outputId": "8bcd479a-90f3-47ac-876d-6f50e0e9b243"
      },
      "source": [
        "!pip install sentencepiece"
      ],
      "execution_count": 1,
      "outputs": [
        {
          "output_type": "stream",
          "text": [
            "Collecting sentencepiece\n",
            "\u001b[?25l  Downloading https://files.pythonhosted.org/packages/e5/2d/6d4ca4bef9a67070fa1cac508606328329152b1df10bdf31fb6e4e727894/sentencepiece-0.1.94-cp36-cp36m-manylinux2014_x86_64.whl (1.1MB)\n",
            "\r\u001b[K     |▎                               | 10kB 19.1MB/s eta 0:00:01\r\u001b[K     |▋                               | 20kB 15.9MB/s eta 0:00:01\r\u001b[K     |▉                               | 30kB 13.4MB/s eta 0:00:01\r\u001b[K     |█▏                              | 40kB 12.6MB/s eta 0:00:01\r\u001b[K     |█▌                              | 51kB 9.1MB/s eta 0:00:01\r\u001b[K     |█▊                              | 61kB 8.3MB/s eta 0:00:01\r\u001b[K     |██                              | 71kB 9.2MB/s eta 0:00:01\r\u001b[K     |██▍                             | 81kB 10.2MB/s eta 0:00:01\r\u001b[K     |██▋                             | 92kB 9.8MB/s eta 0:00:01\r\u001b[K     |███                             | 102kB 8.8MB/s eta 0:00:01\r\u001b[K     |███▎                            | 112kB 8.8MB/s eta 0:00:01\r\u001b[K     |███▌                            | 122kB 8.8MB/s eta 0:00:01\r\u001b[K     |███▉                            | 133kB 8.8MB/s eta 0:00:01\r\u001b[K     |████▏                           | 143kB 8.8MB/s eta 0:00:01\r\u001b[K     |████▍                           | 153kB 8.8MB/s eta 0:00:01\r\u001b[K     |████▊                           | 163kB 8.8MB/s eta 0:00:01\r\u001b[K     |█████                           | 174kB 8.8MB/s eta 0:00:01\r\u001b[K     |█████▎                          | 184kB 8.8MB/s eta 0:00:01\r\u001b[K     |█████▋                          | 194kB 8.8MB/s eta 0:00:01\r\u001b[K     |█████▉                          | 204kB 8.8MB/s eta 0:00:01\r\u001b[K     |██████▏                         | 215kB 8.8MB/s eta 0:00:01\r\u001b[K     |██████▌                         | 225kB 8.8MB/s eta 0:00:01\r\u001b[K     |██████▊                         | 235kB 8.8MB/s eta 0:00:01\r\u001b[K     |███████                         | 245kB 8.8MB/s eta 0:00:01\r\u001b[K     |███████▍                        | 256kB 8.8MB/s eta 0:00:01\r\u001b[K     |███████▋                        | 266kB 8.8MB/s eta 0:00:01\r\u001b[K     |████████                        | 276kB 8.8MB/s eta 0:00:01\r\u001b[K     |████████▎                       | 286kB 8.8MB/s eta 0:00:01\r\u001b[K     |████████▌                       | 296kB 8.8MB/s eta 0:00:01\r\u001b[K     |████████▉                       | 307kB 8.8MB/s eta 0:00:01\r\u001b[K     |█████████                       | 317kB 8.8MB/s eta 0:00:01\r\u001b[K     |█████████▍                      | 327kB 8.8MB/s eta 0:00:01\r\u001b[K     |█████████▊                      | 337kB 8.8MB/s eta 0:00:01\r\u001b[K     |██████████                      | 348kB 8.8MB/s eta 0:00:01\r\u001b[K     |██████████▎                     | 358kB 8.8MB/s eta 0:00:01\r\u001b[K     |██████████▋                     | 368kB 8.8MB/s eta 0:00:01\r\u001b[K     |██████████▉                     | 378kB 8.8MB/s eta 0:00:01\r\u001b[K     |███████████▏                    | 389kB 8.8MB/s eta 0:00:01\r\u001b[K     |███████████▌                    | 399kB 8.8MB/s eta 0:00:01\r\u001b[K     |███████████▊                    | 409kB 8.8MB/s eta 0:00:01\r\u001b[K     |████████████                    | 419kB 8.8MB/s eta 0:00:01\r\u001b[K     |████████████▍                   | 430kB 8.8MB/s eta 0:00:01\r\u001b[K     |████████████▋                   | 440kB 8.8MB/s eta 0:00:01\r\u001b[K     |█████████████                   | 450kB 8.8MB/s eta 0:00:01\r\u001b[K     |█████████████▎                  | 460kB 8.8MB/s eta 0:00:01\r\u001b[K     |█████████████▌                  | 471kB 8.8MB/s eta 0:00:01\r\u001b[K     |█████████████▉                  | 481kB 8.8MB/s eta 0:00:01\r\u001b[K     |██████████████                  | 491kB 8.8MB/s eta 0:00:01\r\u001b[K     |██████████████▍                 | 501kB 8.8MB/s eta 0:00:01\r\u001b[K     |██████████████▊                 | 512kB 8.8MB/s eta 0:00:01\r\u001b[K     |███████████████                 | 522kB 8.8MB/s eta 0:00:01\r\u001b[K     |███████████████▎                | 532kB 8.8MB/s eta 0:00:01\r\u001b[K     |███████████████▋                | 542kB 8.8MB/s eta 0:00:01\r\u001b[K     |███████████████▉                | 552kB 8.8MB/s eta 0:00:01\r\u001b[K     |████████████████▏               | 563kB 8.8MB/s eta 0:00:01\r\u001b[K     |████████████████▌               | 573kB 8.8MB/s eta 0:00:01\r\u001b[K     |████████████████▊               | 583kB 8.8MB/s eta 0:00:01\r\u001b[K     |█████████████████               | 593kB 8.8MB/s eta 0:00:01\r\u001b[K     |█████████████████▍              | 604kB 8.8MB/s eta 0:00:01\r\u001b[K     |█████████████████▋              | 614kB 8.8MB/s eta 0:00:01\r\u001b[K     |██████████████████              | 624kB 8.8MB/s eta 0:00:01\r\u001b[K     |██████████████████▏             | 634kB 8.8MB/s eta 0:00:01\r\u001b[K     |██████████████████▌             | 645kB 8.8MB/s eta 0:00:01\r\u001b[K     |██████████████████▉             | 655kB 8.8MB/s eta 0:00:01\r\u001b[K     |███████████████████             | 665kB 8.8MB/s eta 0:00:01\r\u001b[K     |███████████████████▍            | 675kB 8.8MB/s eta 0:00:01\r\u001b[K     |███████████████████▊            | 686kB 8.8MB/s eta 0:00:01\r\u001b[K     |████████████████████            | 696kB 8.8MB/s eta 0:00:01\r\u001b[K     |████████████████████▎           | 706kB 8.8MB/s eta 0:00:01\r\u001b[K     |████████████████████▋           | 716kB 8.8MB/s eta 0:00:01\r\u001b[K     |████████████████████▉           | 727kB 8.8MB/s eta 0:00:01\r\u001b[K     |█████████████████████▏          | 737kB 8.8MB/s eta 0:00:01\r\u001b[K     |█████████████████████▌          | 747kB 8.8MB/s eta 0:00:01\r\u001b[K     |█████████████████████▊          | 757kB 8.8MB/s eta 0:00:01\r\u001b[K     |██████████████████████          | 768kB 8.8MB/s eta 0:00:01\r\u001b[K     |██████████████████████▎         | 778kB 8.8MB/s eta 0:00:01\r\u001b[K     |██████████████████████▋         | 788kB 8.8MB/s eta 0:00:01\r\u001b[K     |███████████████████████         | 798kB 8.8MB/s eta 0:00:01\r\u001b[K     |███████████████████████▏        | 808kB 8.8MB/s eta 0:00:01\r\u001b[K     |███████████████████████▌        | 819kB 8.8MB/s eta 0:00:01\r\u001b[K     |███████████████████████▉        | 829kB 8.8MB/s eta 0:00:01\r\u001b[K     |████████████████████████        | 839kB 8.8MB/s eta 0:00:01\r\u001b[K     |████████████████████████▍       | 849kB 8.8MB/s eta 0:00:01\r\u001b[K     |████████████████████████▊       | 860kB 8.8MB/s eta 0:00:01\r\u001b[K     |█████████████████████████       | 870kB 8.8MB/s eta 0:00:01\r\u001b[K     |█████████████████████████▎      | 880kB 8.8MB/s eta 0:00:01\r\u001b[K     |█████████████████████████▋      | 890kB 8.8MB/s eta 0:00:01\r\u001b[K     |█████████████████████████▉      | 901kB 8.8MB/s eta 0:00:01\r\u001b[K     |██████████████████████████▏     | 911kB 8.8MB/s eta 0:00:01\r\u001b[K     |██████████████████████████▌     | 921kB 8.8MB/s eta 0:00:01\r\u001b[K     |██████████████████████████▊     | 931kB 8.8MB/s eta 0:00:01\r\u001b[K     |███████████████████████████     | 942kB 8.8MB/s eta 0:00:01\r\u001b[K     |███████████████████████████▎    | 952kB 8.8MB/s eta 0:00:01\r\u001b[K     |███████████████████████████▋    | 962kB 8.8MB/s eta 0:00:01\r\u001b[K     |████████████████████████████    | 972kB 8.8MB/s eta 0:00:01\r\u001b[K     |████████████████████████████▏   | 983kB 8.8MB/s eta 0:00:01\r\u001b[K     |████████████████████████████▌   | 993kB 8.8MB/s eta 0:00:01\r\u001b[K     |████████████████████████████▉   | 1.0MB 8.8MB/s eta 0:00:01\r\u001b[K     |█████████████████████████████   | 1.0MB 8.8MB/s eta 0:00:01\r\u001b[K     |█████████████████████████████▍  | 1.0MB 8.8MB/s eta 0:00:01\r\u001b[K     |█████████████████████████████▊  | 1.0MB 8.8MB/s eta 0:00:01\r\u001b[K     |██████████████████████████████  | 1.0MB 8.8MB/s eta 0:00:01\r\u001b[K     |██████████████████████████████▎ | 1.1MB 8.8MB/s eta 0:00:01\r\u001b[K     |██████████████████████████████▋ | 1.1MB 8.8MB/s eta 0:00:01\r\u001b[K     |██████████████████████████████▉ | 1.1MB 8.8MB/s eta 0:00:01\r\u001b[K     |███████████████████████████████▏| 1.1MB 8.8MB/s eta 0:00:01\r\u001b[K     |███████████████████████████████▍| 1.1MB 8.8MB/s eta 0:00:01\r\u001b[K     |███████████████████████████████▊| 1.1MB 8.8MB/s eta 0:00:01\r\u001b[K     |████████████████████████████████| 1.1MB 8.8MB/s \n",
            "\u001b[?25hInstalling collected packages: sentencepiece\n",
            "Successfully installed sentencepiece-0.1.94\n"
          ],
          "name": "stdout"
        }
      ]
    },
    {
      "cell_type": "markdown",
      "metadata": {
        "id": "JHkHg6XAXoyK"
      },
      "source": [
        "# Evn"
      ]
    },
    {
      "cell_type": "code",
      "metadata": {
        "id": "WkYXFwcBXJDG"
      },
      "source": [
        "import os\n",
        "import random\n",
        "import shutil\n",
        "import json\n",
        "import zipfile\n",
        "\n",
        "import matplotlib.pyplot as plt\n",
        "import numpy as np\n",
        "import sentencepiece as spm\n",
        "import tensorflow as tf\n",
        "import tensorflow.keras.backend as K\n",
        "\n",
        "from tqdm.notebook import tqdm"
      ],
      "execution_count": 2,
      "outputs": []
    },
    {
      "cell_type": "code",
      "metadata": {
        "id": "nvjyruUlXtlR"
      },
      "source": [
        "# random seed initialize\n",
        "random_seed = 1234\n",
        "random.seed(random_seed)\n",
        "np.random.seed(random_seed)\n",
        "tf.random.set_seed(random_seed)"
      ],
      "execution_count": 3,
      "outputs": []
    },
    {
      "cell_type": "code",
      "metadata": {
        "colab": {
          "base_uri": "https://localhost:8080/"
        },
        "id": "BC3fXkhdYcYt",
        "outputId": "148acb09-8745-4524-8413-75a01a13d87d"
      },
      "source": [
        "!nvidia-smi"
      ],
      "execution_count": 4,
      "outputs": [
        {
          "output_type": "stream",
          "text": [
            "Tue Dec 15 03:11:47 2020       \n",
            "+-----------------------------------------------------------------------------+\n",
            "| NVIDIA-SMI 455.45.01    Driver Version: 418.67       CUDA Version: 10.1     |\n",
            "|-------------------------------+----------------------+----------------------+\n",
            "| GPU  Name        Persistence-M| Bus-Id        Disp.A | Volatile Uncorr. ECC |\n",
            "| Fan  Temp  Perf  Pwr:Usage/Cap|         Memory-Usage | GPU-Util  Compute M. |\n",
            "|                               |                      |               MIG M. |\n",
            "|===============================+======================+======================|\n",
            "|   0  Tesla T4            Off  | 00000000:00:04.0 Off |                    0 |\n",
            "| N/A   39C    P8     9W /  70W |      0MiB / 15079MiB |      0%      Default |\n",
            "|                               |                      |                 ERR! |\n",
            "+-------------------------------+----------------------+----------------------+\n",
            "                                                                               \n",
            "+-----------------------------------------------------------------------------+\n",
            "| Processes:                                                                  |\n",
            "|  GPU   GI   CI        PID   Type   Process name                  GPU Memory |\n",
            "|        ID   ID                                                   Usage      |\n",
            "|=============================================================================|\n",
            "|  No running processes found                                                 |\n",
            "+-----------------------------------------------------------------------------+\n"
          ],
          "name": "stdout"
        }
      ]
    },
    {
      "cell_type": "code",
      "metadata": {
        "colab": {
          "base_uri": "https://localhost:8080/"
        },
        "id": "xVRdxYReYeQj",
        "outputId": "905040c7-eee3-4636-8841-5035520550e9"
      },
      "source": [
        "# google drive mount\n",
        "from google.colab import drive\n",
        "drive.mount('/content/drive')"
      ],
      "execution_count": 5,
      "outputs": [
        {
          "output_type": "stream",
          "text": [
            "Mounted at /content/drive\n"
          ],
          "name": "stdout"
        }
      ]
    },
    {
      "cell_type": "code",
      "metadata": {
        "colab": {
          "base_uri": "https://localhost:8080/"
        },
        "id": "byCIiLJBbFHh",
        "outputId": "7e8861dc-5c4d-4ccb-91ed-c4131f27ed94"
      },
      "source": [
        "# data dir\n",
        "data_dir = '/content/drive/MyDrive/Data/nlp'\n",
        "os.listdir(data_dir)"
      ],
      "execution_count": 6,
      "outputs": [
        {
          "output_type": "execute_result",
          "data": {
            "text/plain": [
              "[]"
            ]
          },
          "metadata": {
            "tags": []
          },
          "execution_count": 6
        }
      ]
    },
    {
      "cell_type": "code",
      "metadata": {
        "id": "2H0BLydCb7lg"
      },
      "source": [
        ""
      ],
      "execution_count": null,
      "outputs": []
    }
  ]
}